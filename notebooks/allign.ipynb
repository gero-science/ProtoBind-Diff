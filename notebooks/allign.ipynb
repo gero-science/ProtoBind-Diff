{
 "cells": [
  {
   "cell_type": "code",
   "id": "4b22a398-931d-4efa-b556-1a7ff6218e11",
   "metadata": {
    "ExecuteTime": {
     "end_time": "2025-07-01T11:27:13.669689Z",
     "start_time": "2025-07-01T11:27:13.666164Z"
    }
   },
   "source": [
    "import os\n",
    "import pandas as pd\n",
    "from pathlib import Path\n",
    "import itertools\n",
    "import numpy as np\n",
    "import matplotlib.pyplot as plt\n",
    "import seaborn\n",
    "import json"
   ],
   "outputs": [],
   "execution_count": 39
  },
  {
   "cell_type": "code",
   "id": "8707a548-b888-4659-8efb-ff84d981bb77",
   "metadata": {
    "ExecuteTime": {
     "end_time": "2025-07-01T11:27:13.828290Z",
     "start_time": "2025-07-01T11:27:13.814815Z"
    }
   },
   "source": [
    "cpath = Path(os.getcwd())\n",
    "annotation = pd.read_csv(cpath.parent / \"paper\" / 'tables' / 'selected_targets_benchmark.csv', index_col='Name')\n",
    "seq2int = dict(annotation['sequence_int'])\n",
    "seq2pdb = dict(annotation['PDB name'])\n",
    "\n",
    "annotation"
   ],
   "outputs": [
    {
     "data": {
      "text/plain": [
       "        Number of samples in the train set Dataset type  \\\n",
       "Name                                                      \n",
       "ESR1                                  4483         easy   \n",
       "HCRTR1                               12691         easy   \n",
       "JAK1                                 12455         easy   \n",
       "P2RX3                                 5140         easy   \n",
       "KDM1A                                 4622         easy   \n",
       "IDH1                                  5177         easy   \n",
       "RIOK1                                   15         hard   \n",
       "NR4A1                                   28         hard   \n",
       "GRIK1                                  335         hard   \n",
       "FTO                                     37         hard   \n",
       "SPIN1                                   19         hard   \n",
       "CCR9                                    82         hard   \n",
       "\n",
       "                               Family name UniProt ID PDB name  \\\n",
       "Name                                                             \n",
       "ESR1                      Nuclear receptor     P03372     2r6w   \n",
       "HCRTR1                                GPCR     O43613     4zjc   \n",
       "JAK1                                Kinase     P23458     3eyg   \n",
       "P2RX3                          Ion channel     P56373     5svl   \n",
       "KDM1A   Protein-protein interaction target     O60341     5lhg   \n",
       "IDH1                     Non-kinase enzyme     O75874     4umx   \n",
       "RIOK1                               Kinase     Q9BRS2     4otp   \n",
       "NR4A1                     Nuclear receptor     P22736     3v3q   \n",
       "GRIK1                          Ion channel     P39086     3fv1   \n",
       "FTO                      Non-kinase enzyme     Q9C0B1     4zs3   \n",
       "SPIN1   Protein-protein interaction target     Q9Y657     5jsj   \n",
       "CCR9                                  GPCR     P51686     5lwe   \n",
       "\n",
       "              L1 family name                       L2 family name  \\\n",
       "Name                                                                \n",
       "ESR1    Transcription factor                     Nuclear receptor   \n",
       "HCRTR1     Membrane receptor  Family A G protein-coupled receptor   \n",
       "JAK1                  Enzyme                               Kinase   \n",
       "P2RX3            Ion channel             Ligand-gated ion channel   \n",
       "KDM1A   Epigenetic regulator                               Eraser   \n",
       "IDH1                  Enzyme                       Oxidoreductase   \n",
       "RIOK1                 Enzyme                               Kinase   \n",
       "NR4A1   Transcription factor                     Nuclear receptor   \n",
       "GRIK1            Ion channel             Ligand-gated ion channel   \n",
       "FTO                   Enzyme                       Oxidoreductase   \n",
       "SPIN1   Epigenetic regulator                               Reader   \n",
       "CCR9       Membrane receptor  Family A G protein-coupled receptor   \n",
       "\n",
       "        sequence_int  \n",
       "Name                  \n",
       "ESR1             138  \n",
       "HCRTR1           176  \n",
       "JAK1            1145  \n",
       "P2RX3           2054  \n",
       "KDM1A           2281  \n",
       "IDH1            2908  \n",
       "RIOK1           1163  \n",
       "NR4A1           1230  \n",
       "GRIK1           1852  \n",
       "FTO             5927  \n",
       "SPIN1           7922  \n",
       "CCR9            4006  "
      ],
      "text/html": [
       "<div>\n",
       "<style scoped>\n",
       "    .dataframe tbody tr th:only-of-type {\n",
       "        vertical-align: middle;\n",
       "    }\n",
       "\n",
       "    .dataframe tbody tr th {\n",
       "        vertical-align: top;\n",
       "    }\n",
       "\n",
       "    .dataframe thead th {\n",
       "        text-align: right;\n",
       "    }\n",
       "</style>\n",
       "<table border=\"1\" class=\"dataframe\">\n",
       "  <thead>\n",
       "    <tr style=\"text-align: right;\">\n",
       "      <th></th>\n",
       "      <th>Number of samples in the train set</th>\n",
       "      <th>Dataset type</th>\n",
       "      <th>Family name</th>\n",
       "      <th>UniProt ID</th>\n",
       "      <th>PDB name</th>\n",
       "      <th>L1 family name</th>\n",
       "      <th>L2 family name</th>\n",
       "      <th>sequence_int</th>\n",
       "    </tr>\n",
       "    <tr>\n",
       "      <th>Name</th>\n",
       "      <th></th>\n",
       "      <th></th>\n",
       "      <th></th>\n",
       "      <th></th>\n",
       "      <th></th>\n",
       "      <th></th>\n",
       "      <th></th>\n",
       "      <th></th>\n",
       "    </tr>\n",
       "  </thead>\n",
       "  <tbody>\n",
       "    <tr>\n",
       "      <th>ESR1</th>\n",
       "      <td>4483</td>\n",
       "      <td>easy</td>\n",
       "      <td>Nuclear receptor</td>\n",
       "      <td>P03372</td>\n",
       "      <td>2r6w</td>\n",
       "      <td>Transcription factor</td>\n",
       "      <td>Nuclear receptor</td>\n",
       "      <td>138</td>\n",
       "    </tr>\n",
       "    <tr>\n",
       "      <th>HCRTR1</th>\n",
       "      <td>12691</td>\n",
       "      <td>easy</td>\n",
       "      <td>GPCR</td>\n",
       "      <td>O43613</td>\n",
       "      <td>4zjc</td>\n",
       "      <td>Membrane receptor</td>\n",
       "      <td>Family A G protein-coupled receptor</td>\n",
       "      <td>176</td>\n",
       "    </tr>\n",
       "    <tr>\n",
       "      <th>JAK1</th>\n",
       "      <td>12455</td>\n",
       "      <td>easy</td>\n",
       "      <td>Kinase</td>\n",
       "      <td>P23458</td>\n",
       "      <td>3eyg</td>\n",
       "      <td>Enzyme</td>\n",
       "      <td>Kinase</td>\n",
       "      <td>1145</td>\n",
       "    </tr>\n",
       "    <tr>\n",
       "      <th>P2RX3</th>\n",
       "      <td>5140</td>\n",
       "      <td>easy</td>\n",
       "      <td>Ion channel</td>\n",
       "      <td>P56373</td>\n",
       "      <td>5svl</td>\n",
       "      <td>Ion channel</td>\n",
       "      <td>Ligand-gated ion channel</td>\n",
       "      <td>2054</td>\n",
       "    </tr>\n",
       "    <tr>\n",
       "      <th>KDM1A</th>\n",
       "      <td>4622</td>\n",
       "      <td>easy</td>\n",
       "      <td>Protein-protein interaction target</td>\n",
       "      <td>O60341</td>\n",
       "      <td>5lhg</td>\n",
       "      <td>Epigenetic regulator</td>\n",
       "      <td>Eraser</td>\n",
       "      <td>2281</td>\n",
       "    </tr>\n",
       "    <tr>\n",
       "      <th>IDH1</th>\n",
       "      <td>5177</td>\n",
       "      <td>easy</td>\n",
       "      <td>Non-kinase enzyme</td>\n",
       "      <td>O75874</td>\n",
       "      <td>4umx</td>\n",
       "      <td>Enzyme</td>\n",
       "      <td>Oxidoreductase</td>\n",
       "      <td>2908</td>\n",
       "    </tr>\n",
       "    <tr>\n",
       "      <th>RIOK1</th>\n",
       "      <td>15</td>\n",
       "      <td>hard</td>\n",
       "      <td>Kinase</td>\n",
       "      <td>Q9BRS2</td>\n",
       "      <td>4otp</td>\n",
       "      <td>Enzyme</td>\n",
       "      <td>Kinase</td>\n",
       "      <td>1163</td>\n",
       "    </tr>\n",
       "    <tr>\n",
       "      <th>NR4A1</th>\n",
       "      <td>28</td>\n",
       "      <td>hard</td>\n",
       "      <td>Nuclear receptor</td>\n",
       "      <td>P22736</td>\n",
       "      <td>3v3q</td>\n",
       "      <td>Transcription factor</td>\n",
       "      <td>Nuclear receptor</td>\n",
       "      <td>1230</td>\n",
       "    </tr>\n",
       "    <tr>\n",
       "      <th>GRIK1</th>\n",
       "      <td>335</td>\n",
       "      <td>hard</td>\n",
       "      <td>Ion channel</td>\n",
       "      <td>P39086</td>\n",
       "      <td>3fv1</td>\n",
       "      <td>Ion channel</td>\n",
       "      <td>Ligand-gated ion channel</td>\n",
       "      <td>1852</td>\n",
       "    </tr>\n",
       "    <tr>\n",
       "      <th>FTO</th>\n",
       "      <td>37</td>\n",
       "      <td>hard</td>\n",
       "      <td>Non-kinase enzyme</td>\n",
       "      <td>Q9C0B1</td>\n",
       "      <td>4zs3</td>\n",
       "      <td>Enzyme</td>\n",
       "      <td>Oxidoreductase</td>\n",
       "      <td>5927</td>\n",
       "    </tr>\n",
       "    <tr>\n",
       "      <th>SPIN1</th>\n",
       "      <td>19</td>\n",
       "      <td>hard</td>\n",
       "      <td>Protein-protein interaction target</td>\n",
       "      <td>Q9Y657</td>\n",
       "      <td>5jsj</td>\n",
       "      <td>Epigenetic regulator</td>\n",
       "      <td>Reader</td>\n",
       "      <td>7922</td>\n",
       "    </tr>\n",
       "    <tr>\n",
       "      <th>CCR9</th>\n",
       "      <td>82</td>\n",
       "      <td>hard</td>\n",
       "      <td>GPCR</td>\n",
       "      <td>P51686</td>\n",
       "      <td>5lwe</td>\n",
       "      <td>Membrane receptor</td>\n",
       "      <td>Family A G protein-coupled receptor</td>\n",
       "      <td>4006</td>\n",
       "    </tr>\n",
       "  </tbody>\n",
       "</table>\n",
       "</div>"
      ]
     },
     "execution_count": 40,
     "metadata": {},
     "output_type": "execute_result"
    }
   ],
   "execution_count": 40
  },
  {
   "metadata": {
    "ExecuteTime": {
     "end_time": "2025-07-01T11:27:14.451424Z",
     "start_time": "2025-07-01T11:27:13.994195Z"
    }
   },
   "cell_type": "code",
   "source": [
    "json_path = cpath.parent / 'data' / 'experiments' / 'diffusion' / 'categorical_mappings.json'\n",
    "\n",
    "with json_path.open() as f:\n",
    "    cate_mappings = json.load(f)\n",
    "\n",
    "inv_dict = {v: k for k, v in cate_mappings['sequence'].items()}"
   ],
   "id": "553c2ff9fab5d55a",
   "outputs": [],
   "execution_count": 41
  },
  {
   "cell_type": "code",
   "id": "82c6e543-ab90-4d22-a37e-14f66059e1aa",
   "metadata": {
    "ExecuteTime": {
     "end_time": "2025-07-01T11:27:14.459459Z",
     "start_time": "2025-07-01T11:27:14.456484Z"
    }
   },
   "source": [
    "from Bio.PDB import PDBParser, PPBuilder\n",
    "\n",
    "def read_fasta_pdb(pdb_path):\n",
    "    \"\"\" Simple fasta reader \"\"\"\n",
    "    # Load the PDB file\n",
    "\n",
    "    parser = PDBParser(QUIET=True)\n",
    "    structure = parser.get_structure(\"protein\", pdb_path)\n",
    "    \n",
    "    # Use Polypeptide builder to get peptide chains\n",
    "    ppb = PPBuilder()\n",
    "\n",
    "    fasta = {}\n",
    "    # Extract sequences from all chains and output FASTA\n",
    "    for model in structure:\n",
    "        for chain in model:\n",
    "            sequence = ''\n",
    "            for pp in ppb.build_peptides(chain):\n",
    "                sequence += pp.get_sequence()\n",
    "            if sequence:\n",
    "                fasta[chain.id] = sequence\n",
    "                # print(f\">Chain {chain.id}\\n{sequence}\")\n",
    "    return fasta"
   ],
   "outputs": [],
   "execution_count": 42
  },
  {
   "cell_type": "code",
   "id": "6a2f50de-c355-4b89-ac4f-3d59239d81e2",
   "metadata": {
    "ExecuteTime": {
     "end_time": "2025-07-01T11:27:16.354985Z",
     "start_time": "2025-07-01T11:27:15.794910Z"
    }
   },
   "source": [
    "# save PDB fasta to filtered_sequence.txt \n",
    "import json\n",
    "fasta_pdb = {}\n",
    "for gene, seq_i in seq2int.items():\n",
    "    fasta_seq = read_fasta_pdb(cpath.parent / 'data' / 'CrossDocked2020' / f'{seq2pdb[gene]}' / f'{seq2pdb[gene]}_protein_cleaned.pdb')\n",
    "    fasta_seq = next(iter(fasta_seq.values()))\n",
    "    fasta_pdb[gene] = str(fasta_seq)\n",
    "\n",
    "esm_path = cpath.parent / 'data' / 'esm'\n",
    "os.makedirs(esm_path, exist_ok=True)\n",
    "with open(esm_path / 'mapping.json', 'wt') as f:\n",
    "    json.dump(fasta_pdb, f, indent=2)\n",
    "\n",
    "with open(esm_path / 'filtered_sequence.txt', 'wt') as f:\n",
    "    f.writelines([x+'\\n' for x in fasta_pdb.values()])"
   ],
   "outputs": [],
   "execution_count": 43
  },
  {
   "cell_type": "code",
   "id": "a82b969b-af82-4e6a-a7e1-8f9dfbb6c1aa",
   "metadata": {
    "ExecuteTime": {
     "end_time": "2025-07-01T11:27:16.403268Z",
     "start_time": "2025-07-01T11:27:16.360355Z"
    }
   },
   "source": [
    "from Bio import Align\n",
    "\n",
    "aligner = Align.PairwiseAligner()\n",
    "aligner.mode = 'global'\n",
    "aligner.substitution_matrix = Align.substitution_matrices.load(\"BLOSUM62\")\n",
    "\n",
    "# Set gap penalties to match BLASTP defaults\n",
    "aligner.open_gap_score = -11  # Gap open penalty\n",
    "aligner.extend_gap_score = -1  # Gap extend penalty\n",
    "\n",
    "stats = {}\n",
    "for gene, seq_i in seq2int.items():\n",
    "    fasta_seq = fasta_pdb[gene]\n",
    "    alignments = aligner.align(str(inv_dict[seq_i]), str(fasta_seq))\n",
    "    alignments = sorted(alignments)\n",
    "    if len(alignments) >= 2:\n",
    "        print(alignments[0].score, alignments[1].score)\n",
    "\n",
    "    alignment = alignments[0]\n",
    "    stats[gene] = alignment.counts()._asdict()\n",
    "    stats[gene]['len_fasta'] = len(fasta_seq)\n",
    "    stats[gene]['len_seq'] = len(inv_dict[seq_i])\n",
    "  \n",
    "    # print(alignment.score)\n",
    "    # print(alignment)\n",
    "\n",
    "stats = pd.DataFrame(stats).T\n",
    "stats.index.name = 'gene'\n",
    "stats = stats.reset_index()"
   ],
   "outputs": [
    {
     "name": "stdout",
     "output_type": "stream",
     "text": [
      "1361.0 1361.0\n",
      "667.0 667.0\n",
      "941.0 941.0\n"
     ]
    }
   ],
   "execution_count": 44
  },
  {
   "metadata": {
    "ExecuteTime": {
     "end_time": "2025-07-01T11:27:16.617479Z",
     "start_time": "2025-07-01T11:27:16.409124Z"
    }
   },
   "cell_type": "code",
   "source": [
    "seaborn.barplot(stats, y='gaps', x='gene', hue='gene')\n",
    "plt.tick_params(axis='x', rotation=90)\n",
    "plt.show()\n",
    "\n",
    "seaborn.barplot(stats, y='mismatches', x='gene', hue='gene')\n",
    "plt.tick_params(axis='x', rotation=90)\n",
    "plt.show()"
   ],
   "id": "3d0725aca6181858",
   "outputs": [
    {
     "data": {
      "text/plain": [
       "<Figure size 640x480 with 1 Axes>"
      ],
      "image/png": "[encoded data removed]"
     },
     "metadata": {},
     "output_type": "display_data"
    },
    {
     "data": {
      "text/plain": [
       "<Figure size 640x480 with 1 Axes>"
      ],
      "image/png": "[encoded data removed]"
     },
     "metadata": {},
     "output_type": "display_data"
    }
   ],
   "execution_count": 45
  },
  {
   "cell_type": "code",
   "id": "817c6c29-a863-4089-bf3e-358a01bfe6d8",
   "metadata": {
    "ExecuteTime": {
     "end_time": "2025-07-01T11:27:16.621284Z",
     "start_time": "2025-07-01T11:27:16.619866Z"
    }
   },
   "source": [],
   "outputs": [],
   "execution_count": null
  },
  {
   "metadata": {
    "ExecuteTime": {
     "end_time": "2025-07-01T11:27:16.665582Z",
     "start_time": "2025-07-01T11:27:16.664160Z"
    }
   },
   "cell_type": "code",
   "source": "",
   "id": "2d7cd2ca56a0207d",
   "outputs": [],
   "execution_count": null
  },
  {
   "metadata": {
    "ExecuteTime": {
     "end_time": "2025-07-01T11:27:16.795139Z",
     "start_time": "2025-07-01T11:27:16.792691Z"
    }
   },
   "cell_type": "code",
   "source": "",
   "id": "c73f7d2957eb23bc",
   "outputs": [],
   "execution_count": null
  },
  {
   "metadata": {},
   "cell_type": "code",
   "outputs": [],
   "execution_count": null,
   "source": "",
   "id": "4abe064ff4f070f6"
  }
 ],
 "metadata": {
  "kernelspec": {
   "display_name": "Python 3",
   "language": "python",
   "name": "python3"
  },
  "language_info": {
   "codemirror_mode": {
    "name": "ipython",
    "version": 3
   },
   "file_extension": ".py",
   "mimetype": "text/x-python",
   "name": "python",
   "nbconvert_exporter": "python",
   "pygments_lexer": "ipython3",
   "version": "3.11.4"
  }
 },
 "nbformat": 4,
 "nbformat_minor": 5
}
