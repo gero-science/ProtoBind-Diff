{
 "cells": [
  {
   "cell_type": "code",
   "metadata": {
    "ExecuteTime": {
     "end_time": "2025-07-01T11:27:45.594008Z",
     "start_time": "2025-07-01T11:27:36.838267Z"
    }
   },
   "source": [
    "import json\n",
    "import matplotlib.pyplot as plt\n",
    "import numpy as np\n",
    "import os\n",
    "import pandas as pd\n",
    "from pathlib import Path\n",
    "import re\n",
    "import torch\n",
    "from sklearn.metrics import roc_auc_score\n",
    "import math"
   ],
   "outputs": [],
   "execution_count": 1
  },
  {
   "cell_type": "code",
   "metadata": {
    "ExecuteTime": {
     "end_time": "2025-07-01T11:27:45.689568Z",
     "start_time": "2025-07-01T11:27:45.599253Z"
    }
   },
   "source": [
    "#load dict with annotation of binding sites -> uniprot_id: {'site_1' : ['res1', 'res2', ..], ..}\n",
    "cpath = Path(os.getcwd())\n",
    "data_path =  cpath.parent / \"data\" / \"protobind_diff/attention\"\n",
    "file_bs = data_path / 'binding_sites_BioLip2.json'\n",
    "with open(file_bs, \"r\") as f:\n",
    "    binding_site_dict = json.load(f)"
   ],
   "outputs": [],
   "execution_count": 2
  },
  {
   "cell_type": "code",
   "metadata": {
    "ExecuteTime": {
     "end_time": "2025-07-01T11:27:45.730694Z",
     "start_time": "2025-07-01T11:27:45.693528Z"
    }
   },
   "source": [
    "sequences = np.array(list(binding_site_dict.keys()))\n",
    "\n",
    "# Collect all binding site residue indices for each sequence into a dictionary\n",
    "\n",
    "bs_indexes = {}\n",
    "for seq in sequences:\n",
    "    indexes = [\n",
    "        int(re.search(r'\\d+', res).group())\n",
    "        for res_list in binding_site_dict[seq].values()\n",
    "        for res in res_list\n",
    "    ]\n",
    "    bs_indexes[seq] = indexes\n"
   ],
   "outputs": [],
   "execution_count": 3
  },
  {
   "cell_type": "code",
   "metadata": {
    "ExecuteTime": {
     "end_time": "2025-07-01T11:27:45.993291Z",
     "start_time": "2025-07-01T11:27:45.752278Z"
    }
   },
   "source": [
    "# ---- load & restore numpy dict with attention maps  -----------------------------------\n",
    "loaded = torch.load(data_path / 'preds_active_uid_filtered.pt', map_location='cpu', weights_only=False)\n",
    "attention_maps = {k: v.numpy() for k, v in loaded.items()}"
   ],
   "outputs": [],
   "execution_count": 4
  },
  {
   "cell_type": "code",
   "metadata": {
    "ExecuteTime": {
     "end_time": "2025-07-01T11:27:46.001652Z",
     "start_time": "2025-07-01T11:27:45.997318Z"
    }
   },
   "source": [
    "# Compute metrics based on windowed attention scores.\n",
    "# Each window takes the max attention score and checks if any true binding site falls within it.\n",
    "# This treats nearby predictions (\"near misses\") as correct, making the evaluation more tolerant and realistic.\n",
    "\n",
    "def window_prediction_metrics(att, binding_site_indices, window_size=10, stride=10):\n",
    "    active = set(i - 1 for i in binding_site_indices)\n",
    "    L = len(att)\n",
    "\n",
    "    # collect all windows\n",
    "    windows = []\n",
    "    start = 0\n",
    "    while start < L:\n",
    "        end = min(start + window_size, L)     \n",
    "        score = att[start:end].max()      \n",
    "        label = any(i in active for i in range(start, end)) \n",
    "        windows.append({'score': score, 'label': label})\n",
    "        start += stride\n",
    "\n",
    "\n",
    "    df_ = pd.DataFrame(windows)\n",
    "    len_ = (df_['label'] == 1).sum()\n",
    "    if len_ == 0:\n",
    "        print(\"stop\")\n",
    "    result = {}\n",
    "    \n",
    "    result['roc_auc'] = roc_auc_score(df_['label'].to_list(), df_['score'].to_list())\n",
    "    return result\n"
   ],
   "outputs": [],
   "execution_count": 5
  },
  {
   "cell_type": "code",
   "metadata": {
    "ExecuteTime": {
     "end_time": "2025-07-01T11:28:05.950624Z",
     "start_time": "2025-07-01T11:27:46.045214Z"
    }
   },
   "source": [
    "window_size = 3\n",
    "n_heads = 8\n",
    "\n",
    "# Initialize per-head metrics dicts\n",
    "metrics_by_head = [{} for _ in range(n_heads)]\n",
    "\n",
    "for uid, attn_heads in attention_maps.items():\n",
    "    for head_idx in range(n_heads):\n",
    "        metrics_by_head[head_idx][uid] = window_prediction_metrics(\n",
    "            attn_heads[head_idx], bs_indexes[uid], window_size, window_size\n",
    "        )\n"
   ],
   "outputs": [],
   "execution_count": 6
  },
  {
   "cell_type": "code",
   "metadata": {
    "ExecuteTime": {
     "end_time": "2025-07-01T11:28:06.921057Z",
     "start_time": "2025-07-01T11:28:06.652799Z"
    }
   },
   "source": [
    "heads      = [f'{i}' for i in range(1, 9)]\n",
    "dfs        = [pd.DataFrame(d).T for d in metrics_by_head]\n",
    "mean_auc   = [df['roc_auc'].mean() for df in dfs]\n",
    "sem_auc    = [df['roc_auc'].std(ddof=1) / math.sqrt(len(df))\n",
    "              for df in dfs]                   \n",
    "\n",
    "best_idx   = int(np.argmax(mean_auc))\n",
    "fig, ax = plt.subplots(figsize=(6, 4))\n",
    "\n",
    "bars = ax.bar(\n",
    "    heads,\n",
    "    mean_auc,\n",
    "    yerr=sem_auc,\n",
    "    capsize=0,       \n",
    "    alpha=0.7,\n",
    ")\n",
    "bars[best_idx].set_hatch('//') \n",
    "\n",
    "ax.set_ylabel('Mean ROC-AUC')\n",
    "ax.set_xlabel('Attention Heads')\n",
    "ax.set_ylim(0.45, 0.75)\n",
    "for spine in ('top', 'right'):\n",
    "    ax.spines[spine].set_visible(False)\n",
    "\n",
    "plt.tight_layout()\n",
    "plt.savefig(\"attention_windows.png\")\n",
    "plt.show()\n",
    "\n"
   ],
   "outputs": [
    {
     "data": {
      "text/plain": [
       "<Figure size 600x400 with 1 Axes>"
      ],
      "image/png": "[encoded data removed]"
     },
     "metadata": {},
     "output_type": "display_data"
    }
   ],
   "execution_count": 7
  },
  {
   "cell_type": "code",
   "metadata": {
    "ExecuteTime": {
     "end_time": "2025-07-01T11:28:06.970238Z",
     "start_time": "2025-07-01T11:28:06.968493Z"
    }
   },
   "source": [],
   "outputs": [],
   "execution_count": null
  },
  {
   "metadata": {
    "ExecuteTime": {
     "end_time": "2025-07-01T11:28:07.014784Z",
     "start_time": "2025-07-01T11:28:07.012649Z"
    }
   },
   "cell_type": "code",
   "source": "",
   "outputs": [],
   "execution_count": null
  },
  {
   "metadata": {},
   "cell_type": "code",
   "outputs": [],
   "execution_count": null,
   "source": ""
  }
 ],
 "metadata": {
  "kernelspec": {
   "display_name": "Python 3",
   "language": "python",
   "name": "python3"
  },
  "language_info": {
   "codemirror_mode": {
    "name": "ipython",
    "version": 3
   },
   "file_extension": ".py",
   "mimetype": "text/x-python",
   "name": "python",
   "nbconvert_exporter": "python",
   "pygments_lexer": "ipython3",
   "version": "3.11.4"
  }
 },
 "nbformat": 4,
 "nbformat_minor": 2
}
